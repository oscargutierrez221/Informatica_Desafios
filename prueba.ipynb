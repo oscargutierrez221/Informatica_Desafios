{
 "cells": [
  {
   "cell_type": "markdown",
   "id": "d8a452a5",
   "metadata": {},
   "source": [
    "# <h1 style=\"text-align: center; color: #b30000; font-size: 2.5em; font-family: 'Segoe UI', sans-serif; margin-top: 30px; margin-bottom: 30px;\">\n",
    "# Informática II - Desafío 1<br>\n",
    "# <span style=\"font-size: 1.2em; color: #444;\">Análisis y Diseño - Septiembre 19, 2025</span>\n",
    "# </h1>\n",
    "\n",
    "## a. Análisis del problema y consideraciones para la alternativa de solución propuesta\n",
    "\n",
    "Cordial saludo, somos Oscar David Gutierrez Hernandez y Jhon Jairo Sierra Salazar. Estudiantes de Ingeniería en Telecomunicaciones, pertenecientes a la asignatura de Informatica II. El desafío_#1 nos plantea reconstruir un mensaje original a partir de un texto comprimido y encriptado usando RLE o LZ78, seguido de rotación de bits y XOR. Dado que no podemos usar strings, trabajaremos con códigos ASCII como valores numéricos. Con un fragmento conocido, planeamos deducir el método de compresión y los parámetros de encriptación (n y K) mediante pruebas iterativas, validando los resultados contra los códigos ASCII del fragmento.\n",
    "\n",
    "## b. Planeación\n",
    "\n",
    "- **Paso 1: Análisis Inicial** - Se convertirá el fragmento conocido y el mensaje encriptado a códigos ASCII para identificar patrones.\n",
    "- **Paso 2: Implementación de Algoritmos** - Se desarrollará funciones para descompresión RLE y LZ78, y desencriptación con rotación y XOR, usando arreglos.\n",
    "- **Paso 3: Pruebas Iterativas** - Juntos probaremos combinaciones de n y K sobre los códigos ASCII.\n",
    "- **Paso 4: Validación** - compararemos los resultados con el fragmento conocido.\n",
    "- **Paso 5: Reconstrucción Final** - Finalmente, se convertirá los códigos ASCII descomprimidos a caracteres legibles.\n",
    "\n",
    "## c. Algoritmos a implementar\n",
    "\n",
    "- **Descompresión RLE (con ASCII)**:\n",
    "  - Mientras haya pares (longitud, código ASCII) en el mensaje comprimido:\n",
    "    - Repetir el código ASCII la cantidad de veces indicada por la longitud.\n",
    "    - Agregar los códigos al arreglo descomprimido.\n",
    "\n",
    "- **Descompresión LZ78 (con ASCII)**:\n",
    "  - Inicializar un diccionario de arreglos de códigos ASCII.\n",
    "  - Para cada par (índice, código ASCII):\n",
    "    - Si índice = 0, usar el código solo.\n",
    "    - Si índice > 0, concatenar el prefijo del diccionario con el código.\n",
    "    - Agregar la nueva secuencia al diccionario.\n",
    "    - Agregar la secuencia al arreglo descomprimido.\n",
    "\n",
    "- **Desencriptación (con ASCII)**:\n",
    "  - Para cada byte (código ASCII) del mensaje encriptado:\n",
    "    - Aplicar XOR con la clave K.\n",
    "    - Realizar una rotación a la derecha de n bits.\n",
    "\n",
    "## d. Problemas de desarrollo que afrontó\n",
    "\n",
    "Al planificar este análisis, nos preocupó cómo organizaremos el tiempo para empezar a codificar, ya que aún no hemos iniciado y necesitamos entender bien los algoritmos antes de implementarlos. También nos enfrentaremos al desafío de planificar el manejo de memoria con punteros y arreglos dinámicos para los códigos ASCII, algo que aún no hemos puesto en práctica.\n",
    "\n",
    "## e. Evolución de la solución y consideraciones para tener en cuenta en la implementación\n",
    "\n",
    "Nuestra solución partirá de este análisis y evolucionará hacia una implementación en C++ con el framework de Qt. Usaremos punteros y arreglos dinámicos para los códigos ASCII, evitando strings y STL. Planeamos un enfoque iterativo para probar parámetros, validando cada paso. Documentando nuestras decisiones para justificar el uso de variables en el informe final.\n"
   ]
  }
 ],
 "metadata": {
  "language_info": {
   "name": "python"
  }
 },
 "nbformat": 4,
 "nbformat_minor": 5
}
